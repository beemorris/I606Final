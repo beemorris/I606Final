{
 "cells": [
  {
   "cell_type": "markdown",
   "metadata": {},
   "source": [
    "This is the notebook for the code for our final."
   ]
  },
  {
   "cell_type": "code",
   "execution_count": 3,
   "metadata": {},
   "outputs": [],
   "source": [
    "import networkx as nx"
   ]
  },
  {
   "cell_type": "code",
   "execution_count": 6,
   "metadata": {},
   "outputs": [
    {
     "data": {
      "text/plain": [
       "'Name: \\nType: DiGraph\\nNumber of nodes: 0\\nNumber of edges: 0\\n'"
      ]
     },
     "execution_count": 6,
     "metadata": {},
     "output_type": "execute_result"
    }
   ],
   "source": [
    "G = nx.DiGraph()\n",
    "nx.info(G)"
   ]
  },
  {
   "cell_type": "code",
   "execution_count": 7,
   "metadata": {},
   "outputs": [
    {
     "data": {
      "image/png": "[encoded data removed]",
      "text/plain": [
       "<Figure size 432x288 with 1 Axes>"
      ]
     },
     "metadata": {},
     "output_type": "display_data"
    }
   ],
   "source": [
    "G.add_nodes_from([0, 1])\n",
    "G.add_edge(0, 1)\n",
    "nx.draw(G)"
   ]
  },
  {
   "cell_type": "code",
   "execution_count": 8,
   "metadata": {},
   "outputs": [
    {
     "name": "stdout",
     "output_type": "stream",
     "text": [
      "Name: \n",
      "Type: DiGraph\n",
      "Number of nodes: 2\n",
      "Number of edges: 1\n",
      "Average in degree:   0.5000\n",
      "Average out degree:   0.5000\n"
     ]
    }
   ],
   "source": [
    "print(nx.info(G))"
   ]
  },
  {
   "cell_type": "code",
   "execution_count": 9,
   "metadata": {},
   "outputs": [],
   "source": [
    "#TGA = nx.DiGraph()\n",
    "#print(nx.info(TGA))"
   ]
  },
  {
   "cell_type": "code",
   "execution_count": 10,
   "metadata": {},
   "outputs": [
    {
     "data": {
      "text/plain": [
       "\"\\nTGA.add_node(0, name ='IE') #Indo-European Node\\nTGA.add_nodes_from([0, 1])\\nTGA.add_edge(0, 1)\\nTGA.add_nodes_from([1, 2])\\nTGA.add_edge(1, 2)\\nTGA.add_nodes_from([2, 3])\\nTGA.add_edge(2, 3)\\nTGA.add_nodes_from([3, 4], name = 'LU') \\n\\nnx.draw(TGA)\\n\""
      ]
     },
     "execution_count": 10,
     "metadata": {},
     "output_type": "execute_result"
    }
   ],
   "source": [
    "'''\n",
    "TGA.add_node(0, name ='IE') #Indo-European Node\n",
    "TGA.add_nodes_from([0, 1])\n",
    "TGA.add_edge(0, 1)\n",
    "TGA.add_nodes_from([1, 2])\n",
    "TGA.add_edge(1, 2)\n",
    "TGA.add_nodes_from([2, 3])\n",
    "TGA.add_edge(2, 3)\n",
    "TGA.add_nodes_from([3, 4], name = 'LU') \n",
    "\n",
    "nx.draw(TGA)\n",
    "'''"
   ]
  },
  {
   "cell_type": "code",
   "execution_count": 11,
   "metadata": {},
   "outputs": [],
   "source": [
    "from Bio import Phylo as ph"
   ]
  },
  {
   "cell_type": "code",
   "execution_count": 12,
   "metadata": {},
   "outputs": [
    {
     "ename": "NameError",
     "evalue": "name 'Phylo' is not defined",
     "output_type": "error",
     "traceback": [
      "\u001b[0;31m---------------------------------------------------------------------------\u001b[0m",
      "\u001b[0;31mNameError\u001b[0m                                 Traceback (most recent call last)",
      "\u001b[0;32m<ipython-input-12-38bacdf9bb98>\u001b[0m in \u001b[0;36m<module>\u001b[0;34m()\u001b[0m\n\u001b[0;32m----> 1\u001b[0;31m \u001b[0mtree\u001b[0m \u001b[0;34m=\u001b[0m \u001b[0mPhylo\u001b[0m\u001b[0;34m.\u001b[0m\u001b[0mread\u001b[0m\u001b[0;34m(\u001b[0m\u001b[0;34m'I606.txt'\u001b[0m\u001b[0;34m,\u001b[0m \u001b[0;34m'newick'\u001b[0m\u001b[0;34m)\u001b[0m\u001b[0;34m\u001b[0m\u001b[0;34m\u001b[0m\u001b[0m\n\u001b[0m\u001b[1;32m      2\u001b[0m \u001b[0;31m#print(tree)\u001b[0m\u001b[0;34m\u001b[0m\u001b[0;34m\u001b[0m\u001b[0;34m\u001b[0m\u001b[0m\n\u001b[1;32m      3\u001b[0m \u001b[0;31m#tree.ladderize()   # Flip branches so deeper clades are displayed at top\u001b[0m\u001b[0;34m\u001b[0m\u001b[0;34m\u001b[0m\u001b[0;34m\u001b[0m\u001b[0m\n\u001b[1;32m      4\u001b[0m \u001b[0mph\u001b[0m\u001b[0;34m.\u001b[0m\u001b[0mdraw\u001b[0m\u001b[0;34m(\u001b[0m\u001b[0mtree\u001b[0m\u001b[0;34m)\u001b[0m\u001b[0;34m\u001b[0m\u001b[0;34m\u001b[0m\u001b[0m\n",
      "\u001b[0;31mNameError\u001b[0m: name 'Phylo' is not defined"
     ]
    }
   ],
   "source": [
    "tree = Phylo.read('I606.txt', 'newick')\n",
    "#print(tree)\n",
    "#tree.ladderize()   # Flip branches so deeper clades are displayed at top\n",
    "ph.draw(tree)"
   ]
  },
  {
   "cell_type": "code",
   "execution_count": null,
   "metadata": {},
   "outputs": [],
   "source": [
    "'''\n",
    "TGA.add_node('OG')\n",
    "TGA.add_node('OE')\n",
    "TGA.add_node(1)\n",
    "TGA.add_edge(1, 'OG')\n",
    "TGA.add_edge(1, 'OE')\n",
    "\n",
    "TGA.add_node(2)\n",
    "TGA.add_node('ON')\n",
    "TGA.add_edges_from([(2, 1), (2, 'ON')])\n",
    "\n",
    "TGA.add_node(3)\n",
    "TGA.add_node('GO')\n",
    "TGA.add_edges_from([(3, 2), (3, 'GO')])\n",
    "                    \n",
    "TGA.add_node('WE')\n",
    "TGA.add_node('OI')\n",
    "TGA.add_node(4)\n",
    "TGA.add_edges_from([(4, 'WE'), (4, 'OI')])\n",
    "\n",
    "TGA.add_node('UM')\n",
    "TGA.add_node('OS')\n",
    "TGA.add_node(5)\n",
    "TGA.add_edges_from([(5, 'UM'), (5, 'OS')])\n",
    "\n",
    "TGA.add_node('LA')\n",
    "TGA.add_node(6)\n",
    "TGA.add_edge(6, 'LA')\n",
    "\n",
    "TGA.add_edge(6, 5)\n",
    "\n",
    "TGA.add_node(7)\n",
    "TGA.add_edge(7, 4)\n",
    "\n",
    "TGA.add_node(8)\n",
    "\n",
    "\n",
    "print(nx.info(TGA))\n",
    "#nx.draw(TGA)\n",
    "nx.draw_networkx(TGA, pos=nx.kamada_kawai_layout(TGA), arrows=True, with_labels=True)\n",
    "\n",
    "#kamada_kawai_layout(, dist=None, pos=None, weight='weight', scale=1, center=None, dim=2)\n",
    "'''"
   ]
  },
  {
   "cell_type": "code",
   "execution_count": null,
   "metadata": {},
   "outputs": [],
   "source": []
  },
  {
   "cell_type": "code",
   "execution_count": 17,
   "metadata": {},
   "outputs": [
    {
     "name": "stdout",
     "output_type": "stream",
     "text": [
      "Name: \n",
      "Type: DiGraph\n",
      "Number of nodes: 0\n",
      "Number of edges: 0\n",
      "\n",
      "Name: \n",
      "Type: DiGraph\n",
      "Number of nodes: 46\n",
      "Number of edges: 45\n",
      "Average in degree:   0.9783\n",
      "Average out degree:   0.9783\n"
     ]
    },
    {
     "data": {
      "image/png": "[encoded data removed]",
      "text/plain": [
       "<Figure size 432x288 with 1 Axes>"
      ]
     },
     "metadata": {
      "needs_background": "light"
     },
     "output_type": "display_data"
    }
   ],
   "source": [
    "#Screened Ones\n",
    "tga= nx.DiGraph()\n",
    "print(nx.info(tga))\n",
    "\n",
    "tga.add_node('OG')\n",
    "tga.add_node('OE')\n",
    "tga.add_node(1)\n",
    "tga.add_edge(1, 'OG')\n",
    "tga.add_edge(1, 'OE')\n",
    "\n",
    "tga.add_node(2)\n",
    "tga.add_node('ON')\n",
    "tga.add_edges_from([(2, 1), (2, 'ON')])\n",
    "\n",
    "tga.add_node(3)\n",
    "tga.add_node('GO')\n",
    "tga.add_edges_from([(3, 2), (3, 'GO')])\n",
    "\n",
    "tga.add_node('WE')\n",
    "tga.add_node('OI')\n",
    "tga.add_node(4)\n",
    "tga.add_edges_from([(4, 'WE'), (4, 'OI')])\n",
    "\n",
    "tga.add_node('OS')\n",
    "tga.add_node('UM')\n",
    "tga.add_node(5)\n",
    "tga.add_edges_from([(5, 'UM'), (5, 'OS')])\n",
    "\n",
    "tga.add_node('LA')\n",
    "tga.add_node(6)\n",
    "tga.add_edges_from([(6, 'LA'), (6, 5)])\n",
    "\n",
    "tga.add_node(7)\n",
    "tga.add_edges_from([(7,6), (7,4)])\n",
    "\n",
    "tga.add_node(8)\n",
    "tga.add_edges_from([(8,7), (8,3)])\n",
    "\n",
    "tga.add_node('LI')\n",
    "tga.add_node('LT')\n",
    "tga.add_node(9)\n",
    "tga.add_edges_from([(9,'LI'), (9,'LT')])\n",
    "\n",
    "tga.add_node('PR')\n",
    "tga.add_node(10)\n",
    "tga.add_edges_from([(10,'PR'), (10,9)])\n",
    "\n",
    "tga.add_node('OC')\n",
    "tga.add_node(11)\n",
    "tga.add_edges_from([(11, 'OC'), (11,10)])\n",
    "\n",
    "tga.add_node('AV')\n",
    "tga.add_node('PE')\n",
    "tga.add_node(12)\n",
    "tga.add_edges_from([(12, 'AV'), (12,'PE')])\n",
    "\n",
    "tga.add_node('VE')\n",
    "tga.add_node(13)\n",
    "tga.add_edges_from([(13, 'VE'), (13, 12)])\n",
    "\n",
    "tga.add_node(14)\n",
    "tga.add_edges_from([(14, 13), (14, 11)])\n",
    "\n",
    "tga.add_node(15)\n",
    "tga.add_edges_from([(15, 14), (15, 8)])\n",
    "\n",
    "tga.add_node('GK')\n",
    "tga.add_node('AR')\n",
    "tga.add_node(16)\n",
    "tga.add_edges_from([(16, 'AR'), (16, 'GK')])\n",
    "\n",
    "tga.add_node(17)\n",
    "tga.add_edges_from([(17, 16), (17, 15)])\n",
    "\n",
    "tga.add_node('AL')\n",
    "tga.add_edge(17, 'AL')\n",
    "\n",
    "tga.add_node('TA')\n",
    "tga.add_node('TB')\n",
    "tga.add_node(18)\n",
    "tga.add_edges_from([(18, 'TA'), (18, 'TB')])\n",
    "\n",
    "tga.add_node(19)\n",
    "tga.add_edges_from([(19, 17), (19, 18)])\n",
    "\n",
    "tga.add_node('LU')\n",
    "tga.add_node('LY')\n",
    "tga.add_node(20)\n",
    "tga.add_edges_from([(20, 'LU'), (20, 'LY')])\n",
    "\n",
    "tga.add_node('HI')\n",
    "tga.add_node(21)\n",
    "tga.add_edges_from([(21, 'HI'), (21, 20)])\n",
    "\n",
    "tga.add_node(22)\n",
    "tga.add_edges_from([(22, 21), (22, 19)])\n",
    "\n",
    "print(nx.info(tga))\n",
    "#nx.draw(tga)\n",
    "nx.draw_networkx(tga, pos=nx.kamada_kawai_layout(tga), arrows=True, with_labels=True)\n",
    "#planar_layout(, scale=1, center=None, dim=2)"
   ]
  },
  {
   "cell_type": "code",
   "execution_count": null,
   "metadata": {},
   "outputs": [],
   "source": []
  },
  {
   "cell_type": "code",
   "execution_count": 14,
   "metadata": {},
   "outputs": [
    {
     "name": "stdout",
     "output_type": "stream",
     "text": [
      "Name: \n",
      "Type: DiGraph\n",
      "Number of nodes: 0\n",
      "Number of edges: 0\n",
      "\n",
      "Name: \n",
      "Type: DiGraph\n",
      "Number of nodes: 47\n",
      "Number of edges: 46\n",
      "Average in degree:   0.9787\n",
      "Average out degree:   0.9787\n"
     ]
    },
    {
     "data": {
      "image/png": "[encoded data removed]",
      "text/plain": [
       "<Figure size 432x288 with 1 Axes>"
      ]
     },
     "metadata": {
      "needs_background": "light"
     },
     "output_type": "display_data"
    }
   ],
   "source": [
    "twmc = nx.DiGraph()\n",
    "print(nx.info(twmc))\n",
    "\n",
    "twmc.add_node('GK')\n",
    "twmc.add_node('AR')\n",
    "twmc.add_node(1)\n",
    "twmc.add_edge(1, 'GK')\n",
    "twmc.add_edge(1, 'AR')\n",
    "\n",
    "twmc.add_node('AV')\n",
    "twmc.add_node('PE')\n",
    "twmc.add_node(2)\n",
    "twmc.add_edges_from([(2, 'AV'), (2, 'PE')])\n",
    "\n",
    "twmc.add_node('VE')\n",
    "twmc.add_node(3)\n",
    "twmc.add_edges_from([(3, 'VE'), (3, 2)])\n",
    "\n",
    "twmc.add_node('LI')\n",
    "twmc.add_node('LT')\n",
    "twmc.add_node(4)\n",
    "twmc.add_edges_from([(4, 'LI'), (4, 'LT')])\n",
    "\n",
    "twmc.add_node('PR')\n",
    "twmc.add_node(5)\n",
    "twmc.add_edges_from([(5, 'PR'), (5, 4)])\n",
    "\n",
    "twmc.add_node('OC')\n",
    "twmc.add_node(6)\n",
    "twmc.add_edges_from([(6, 'OC'), (6, 5)])\n",
    "\n",
    "twmc.add_node(7)\n",
    "twmc.add_edges_from([(7, 3), (7, 6)])\n",
    "\n",
    "twmc.add_node(8)\n",
    "twmc.add_edges_from([(8, 7), (8, 1)])\n",
    "\n",
    "twmc.add_node('OE')\n",
    "twmc.add_node('OG')\n",
    "twmc.add_node(9)\n",
    "twmc.add_edges_from([(9, 'OE'), (9, 'OG')])\n",
    "\n",
    "twmc.add_node('ON')\n",
    "twmc.add_node(10)\n",
    "twmc.add_edges_from([(10, 'ON'), (10, 9)])\n",
    "\n",
    "twmc.add_node('GO')\n",
    "twmc.add_node(11)\n",
    "twmc.add_edges_from([(11, 'GO'), (11, 10)])\n",
    "\n",
    "twmc.add_node('AL')\n",
    "twmc.add_node(12)\n",
    "twmc.add_edges_from([(12, 'AL'),(12, 11)])\n",
    "\n",
    "twmc.add_node(13)\n",
    "twmc.add_edges_from([(13, 12), (13, 8)])\n",
    "\n",
    "twmc.add_node('OS')\n",
    "twmc.add_node('UM')\n",
    "twmc.add_node(14)\n",
    "twmc.add_edges_from([(14, 'OS'), (14, 'UM')])\n",
    "\n",
    "twmc.add_node('LA')\n",
    "twmc.add_node(15)\n",
    "twmc.add_edges_from([(15, 'LA'), (15, 14)])\n",
    "\n",
    "twmc.add_node('OI')\n",
    "twmc.add_node('WE')\n",
    "twmc.add_node(16)\n",
    "twmc.add_edges_from([(16, 'OI'), (16, 'WE')])\n",
    "\n",
    "twmc.add_node(17)\n",
    "twmc.add_edges_from([(17, 16), (17, 15)])\n",
    "\n",
    "twmc.add_node(18)\n",
    "twmc.add_edges_from([(18, 17), (18, 13)])\n",
    "\n",
    "twmc.add_node('TA')\n",
    "twmc.add_node('TB')\n",
    "twmc.add_node(19)\n",
    "twmc.add_edges_from(([(19, 'TA'), (19, 'TB')]))\n",
    "\n",
    "twmc.add_node(20)\n",
    "twmc.add_edges_from([(20, 19), (20, 18)])\n",
    "\n",
    "twmc.add_node('LU')\n",
    "twmc.add_node('LY')\n",
    "twmc.add_node(21)\n",
    "twmc.add_edges_from([(21, 'LU'), (21, 'LY')])\n",
    "\n",
    "twmc.add_node('HI')\n",
    "twmc.add_node(22)\n",
    "twmc.add_edges_from([(22, 'HI'), (22, 21)])\n",
    "\n",
    "twmc.add_node(23)\n",
    "twmc.add_edges_from([(23, 22), (23, 20)])\n",
    "\n",
    "print(nx.info(twmc))\n",
    "#nx.draw(TGA)\n",
    "nx.draw_networkx(twmc, pos=nx.kamada_kawai_layout(twmc), arrows=True, with_labels=True)\n",
    "#planar_layout(, scale=1, center=None, dim=2)"
   ]
  },
  {
   "cell_type": "code",
   "execution_count": 15,
   "metadata": {},
   "outputs": [
    {
     "name": "stdout",
     "output_type": "stream",
     "text": [
      "Name: \n",
      "Type: DiGraph\n",
      "Number of nodes: 0\n",
      "Number of edges: 0\n",
      "\n",
      "Name: \n",
      "Type: DiGraph\n",
      "Number of nodes: 47\n",
      "Number of edges: 46\n",
      "Average in degree:   0.9787\n",
      "Average out degree:   0.9787\n"
     ]
    },
    {
     "data": {
      "image/png": "[encoded data removed]",
      "text/plain": [
       "<Figure size 432x288 with 1 Axes>"
      ]
     },
     "metadata": {
      "needs_background": "light"
     },
     "output_type": "display_data"
    }
   ],
   "source": [
    "tmc= nx.DiGraph()\n",
    "print(nx.info(tmc))\n",
    "\n",
    "tmc.add_node('OG')\n",
    "tmc.add_node('OE')\n",
    "tmc.add_node(1)\n",
    "tmc.add_edge(1, 'OG')\n",
    "tmc.add_edge(1, 'OE')\n",
    "\n",
    "tmc.add_node(2)\n",
    "tmc.add_node('ON')\n",
    "tmc.add_edges_from([(2, 1), (2, 'ON')])\n",
    "\n",
    "tmc.add_node(3)\n",
    "tmc.add_node('GO')\n",
    "tmc.add_edges_from([(3, 2), (3, 'GO')])\n",
    "\n",
    "tmc.add_node('WE')\n",
    "tmc.add_node('OI')\n",
    "tmc.add_node(4)\n",
    "tmc.add_edges_from([(4, 'WE'), (4, 'OI')])\n",
    "\n",
    "tmc.add_node('OS')\n",
    "tmc.add_node('UM')\n",
    "tmc.add_node(5)\n",
    "tmc.add_edges_from([(5, 'UM'), (5, 'OS')])\n",
    "\n",
    "tmc.add_node('LA')\n",
    "tmc.add_node(6)\n",
    "tmc.add_edges_from([(6, 'LA'), (6, 5)])\n",
    "\n",
    "tmc.add_node(7)\n",
    "tmc.add_edges_from([(7,6), (7,4)])\n",
    "\n",
    "tmc.add_node(8)\n",
    "tmc.add_edges_from([(8,7), (8,3)])\n",
    "\n",
    "tmc.add_node('LI')\n",
    "tmc.add_node('LT')\n",
    "tmc.add_node(9)\n",
    "tmc.add_edges_from([(9,'LI'), (9,'LT')])\n",
    "\n",
    "tmc.add_node('PR')\n",
    "tmc.add_node(10)\n",
    "tmc.add_edges_from([(10,'PR'), (10,9)])\n",
    "\n",
    "tmc.add_node('OC')\n",
    "tmc.add_node(11)\n",
    "tmc.add_edges_from([(11, 'OC'), (11,10)])\n",
    "\n",
    "tmc.add_node('AV')\n",
    "tmc.add_node('PE')\n",
    "tmc.add_node(12)\n",
    "tmc.add_edges_from([(12, 'AV'), (12,'PE')])\n",
    "\n",
    "tmc.add_node('VE')\n",
    "tmc.add_node(13)\n",
    "tmc.add_edges_from([(13, 'VE'), (13, 12)])\n",
    "\n",
    "tmc.add_node(14)\n",
    "tmc.add_edges_from([(14,11), (14,8)])\n",
    "\n",
    "tmc.add_node(15)\n",
    "tmc.add_edges_from([(15,14), (15,13)])\n",
    "\n",
    "tmc.add_node('AL')\n",
    "tmc.add_node(16)\n",
    "tmc.add_edges_from([(16,15), (16,'AL')])\n",
    "\n",
    "tmc.add_node('AR')\n",
    "tmc.add_node('GK')\n",
    "tmc.add_node(17)\n",
    "tmc.add_edges_from([(17,'AR'), (17,'GK')])\n",
    "\n",
    "tmc.add_node(18)\n",
    "tmc.add_edges_from([(18,17), (18,16)])\n",
    "\n",
    "tmc.add_node('TA')\n",
    "tmc.add_node('TB')\n",
    "tmc.add_node(19)\n",
    "tmc.add_edges_from([(19,'TA'), (19,'TB')])\n",
    "\n",
    "tmc.add_node(20)\n",
    "tmc.add_edges_from([(20,18), (20,19)])\n",
    "\n",
    "tmc.add_node('LU')\n",
    "tmc.add_node('LY')\n",
    "tmc.add_node(21)\n",
    "tmc.add_edges_from([(21, 'LU'), (21, 'LY')])\n",
    "\n",
    "tmc.add_node('HI')\n",
    "tmc.add_node(22)\n",
    "tmc.add_edges_from([(22, 'HI'), (22, 21)])\n",
    "\n",
    "tmc.add_node('PIE')\n",
    "tmc.add_edges_from([('PIE', 22), ('PIE', 20)])\n",
    "\n",
    "print(nx.info(tmc))\n",
    "#nx.draw(TGA)\n",
    "nx.draw_networkx(tmc, pos=nx.kamada_kawai_layout(tmc), arrows=True, with_labels=True)"
   ]
  },
  {
   "cell_type": "code",
   "execution_count": null,
   "metadata": {},
   "outputs": [],
   "source": [
    "for i in nx.optimize_graph_edit_distance(tga, twmc):\n",
    "    print(i)"
   ]
  },
  {
   "cell_type": "code",
   "execution_count": null,
   "metadata": {},
   "outputs": [],
   "source": [
    "for i in nx.optimize_graph_edit_distance(tga, tmc):\n",
    "    print(i)"
   ]
  },
  {
   "cell_type": "code",
   "execution_count": null,
   "metadata": {},
   "outputs": [],
   "source": [
    "for i in nx.optimize_graph_edit_distance(tmc, twmc):\n",
    "    print(i)"
   ]
  },
  {
   "cell_type": "code",
   "execution_count": null,
   "metadata": {},
   "outputs": [],
   "source": [
    "%matplotlib inline\n",
    "def get_pr(g_one, g_two):\n",
    "    correct = 0\n",
    "    for node_a in g_one.nodes():\n",
    "        a = nx.dfs_tree(g_one, node_a)\n",
    "        a_leafs = [x for x in a.nodes() if a.out_degree(x)==0]\n",
    "        for node_b in g_two.nodes():\n",
    "            b = nx.dfs_tree(g_two, node_b)\n",
    "            b_leafs = [x for x in b.nodes() if b.out_degree(x)==0]\n",
    "            if a_leafs == b_leafs:\n",
    "                if nx.is_isomorphic(a, b):\n",
    "                    correct += 1\n",
    "                    continue\n",
    "                else:\n",
    "                    nx.draw_networkx(a, arrows=True, with_labels=True)\n",
    "                    print([x for x in a.nodes() if a.out_degree(x)==0])\n",
    "                    nx.draw_networkx(b, arrows=True, with_labels=True)\n",
    "                    [x for x in b.nodes() if b.out_degree(x)==0]\n",
    "    return (correct/len(g_one.nodes()), correct/len(g_two.nodes()))"
   ]
  },
  {
   "cell_type": "code",
   "execution_count": null,
   "metadata": {},
   "outputs": [],
   "source": [
    "print(len(tga.nodes()))\n",
    "print(get_pr(tga, twmc))\n",
    "print(get_pr(tga, tmc))\n",
    "print(get_pr(tmc, twmc))"
   ]
  },
  {
   "cell_type": "code",
   "execution_count": null,
   "metadata": {},
   "outputs": [],
   "source": [
    "get_pr(tga, tga)"
   ]
  },
  {
   "cell_type": "code",
   "execution_count": null,
   "metadata": {},
   "outputs": [],
   "source": [
    "tnj = nx.DiGraph()\n",
    "print(nx.info(tnj))"
   ]
  },
  {
   "cell_type": "code",
   "execution_count": 16,
   "metadata": {},
   "outputs": [
    {
     "name": "stdout",
     "output_type": "stream",
     "text": [
      "Name: \n",
      "Type: DiGraph\n",
      "Number of nodes: 47\n",
      "Number of edges: 46\n",
      "Average in degree:   0.9787\n",
      "Average out degree:   0.9787\n"
     ]
    },
    {
     "data": {
      "image/png": "[encoded data removed]",
      "text/plain": [
       "<Figure size 432x288 with 1 Axes>"
      ]
     },
     "metadata": {
      "needs_background": "light"
     },
     "output_type": "display_data"
    }
   ],
   "source": [
    "tnj.add_node('OG')\n",
    "tnj.add_node('OE')\n",
    "tnj.add_node(1)\n",
    "tnj.add_edges_from([(1, 'OG'), (1, 'OE')])\n",
    "\n",
    "tnj.add_node('ON')\n",
    "tnj.add_node(2)\n",
    "tnj.add_edges_from([(2, 'ON'), (2, 1)])\n",
    "\n",
    "tnj.add_node('GO')\n",
    "tnj.add_node(3)\n",
    "tnj.add_edges_from([(3, 'GO'), (3, 2)])\n",
    "\n",
    "tnj.add_node('OI')\n",
    "tnj.add_node('WE')\n",
    "tnj.add_node(4)\n",
    "tnj.add_edges_from([(4, 'OI'), (4, 'WE')])\n",
    "\n",
    "tnj.add_node(5)\n",
    "tnj.add_edges_from([(5, 4), (5, 3)])\n",
    "\n",
    "tnj.add_node('OS')\n",
    "tnj.add_node('UM')\n",
    "tnj.add_node(6)\n",
    "tnj.add_edges_from([(6, 'OS'), (6, 'UM')])\n",
    "\n",
    "tnj.add_node('LA')\n",
    "tnj.add_node(7)\n",
    "tnj.add_edges_from([(7, 'LA'), (7, 6)])\n",
    "\n",
    "tnj.add_node(8)\n",
    "tnj.add_edges_from([(8, 7), (8, 5)])\n",
    "\n",
    "tnj.add_node('LI')\n",
    "tnj.add_node('LT')\n",
    "tnj.add_node(9)\n",
    "tnj.add_edges_from([(9, 'LI'), (9, 'LT')])\n",
    "\n",
    "tnj.add_node('PR')\n",
    "tnj.add_node(10)\n",
    "tnj.add_edges_from([(10, 'PR'), (10, 9)])\n",
    "\n",
    "tnj.add_node('OC')\n",
    "tnj.add_node(11)\n",
    "tnj.add_edges_from([(11, 'OC'), (11, 10)])\n",
    "\n",
    "tnj.add_node(12)\n",
    "tnj.add_edges_from([(12, 8), (12,11)])\n",
    "\n",
    "tnj.add_node('VE')\n",
    "tnj.add_node('AV')\n",
    "tnj.add_node('PE')\n",
    "tnj.add_node(13)\n",
    "tnj.add_node(14)\n",
    "tnj.add_edges_from([(13, 'AV'), (13, 'PE'), (14, 'VE'), (14, 13)])\n",
    "\n",
    "tnj.add_node('GK')\n",
    "tnj.add_node('AR')\n",
    "tnj.add_node(16)\n",
    "tnj.add_edges_from([(16, 'GK'), (16, 'AR')])\n",
    "\n",
    "tnj.add_node(17)\n",
    "tnj.add_edges_from([(17, 16), (17, 15), (15, 14), (15, 12)])\n",
    "\n",
    "tnj.add_node('TA')\n",
    "tnj.add_node('TB')\n",
    "tnj.add_node(18)\n",
    "tnj.add_edges_from([(18, 'TA'), (18, 'TB')])\n",
    "\n",
    "tnj.add_node(19)\n",
    "tnj.add_edges_from([(19, 18), (19, 17)])\n",
    "\n",
    "tnj.add_node('AL')\n",
    "tnj.add_node(20)\n",
    "tnj.add_edges_from([(20, 'AL'), (20, 19)])\n",
    "\n",
    "tnj.add_node('LU')\n",
    "tnj.add_node('LY')\n",
    "tnj.add_node(21)\n",
    "tnj.add_edges_from([(21, 'LY'), (21, 'LU')])\n",
    "\n",
    "tnj.add_node('HI')\n",
    "tnj.add_node(22)\n",
    "tnj.add_edges_from([(22, 'HI'), (22, 21)])\n",
    "\n",
    "tnj.add_node(23)\n",
    "tnj.add_edges_from([(23, 22), (23, 20)])\n",
    "\n",
    "\n",
    "print(nx.info(tnj))\n",
    "#nx.draw(TGA)\n",
    "nx.draw_networkx(tnj, pos=nx.kamada_kawai_layout(tnj), arrows=True, with_labels=True)\n",
    "#planar_layout(, scale=1, center=None, dim=2)"
   ]
  },
  {
   "cell_type": "code",
   "execution_count": 4,
   "metadata": {},
   "outputs": [
    {
     "name": "stdout",
     "output_type": "stream",
     "text": [
      "Name: \n",
      "Type: DiGraph\n",
      "Number of nodes: 0\n",
      "Number of edges: 0\n",
      "\n"
     ]
    }
   ],
   "source": [
    "tupgma = nx.DiGraph()\n",
    "print(nx.info(tupgma))"
   ]
  },
  {
   "cell_type": "code",
   "execution_count": 6,
   "metadata": {},
   "outputs": [
    {
     "name": "stdout",
     "output_type": "stream",
     "text": [
      "Name: \n",
      "Type: DiGraph\n",
      "Number of nodes: 45\n",
      "Number of edges: 44\n",
      "Average in degree:   0.9778\n",
      "Average out degree:   0.9778\n"
     ]
    },
    {
     "data": {
      "image/png": "[encoded data removed]",
      "text/plain": [
       "<Figure size 432x288 with 1 Axes>"
      ]
     },
     "metadata": {
      "needs_background": "light"
     },
     "output_type": "display_data"
    }
   ],
   "source": [
    "tupgma.add_node('VE')\n",
    "tupgma.add_node('AV')\n",
    "tupgma.add_node(1)\n",
    "tupgma.add_edges_from([(1, 'VE'), (1, 'AV')])\n",
    "\n",
    "tupgma.add_node('GK')\n",
    "tupgma.add_node('LA')\n",
    "tupgma.add_node(2)\n",
    "tupgma.add_edges_from([(2, 'GK'), (2, 'LA')])\n",
    "\n",
    "tupgma.add_node(3)\n",
    "tupgma.add_edges_from([(3, 2), (3, 1)])\n",
    "\n",
    "tupgma.add_node('AR')\n",
    "tupgma.add_node(4)\n",
    "tupgma.add_edges_from([(4, 'AR'), (4, 3)])\n",
    "\n",
    "tupgma.add_node('LI')\n",
    "tupgma.add_node('LT')\n",
    "tupgma.add_node(5)\n",
    "tupgma.add_edges_from(([(5, 'LI'), (5, 'LT')]))\n",
    "\n",
    "tupgma.add_node('OC')\n",
    "tupgma.add_node(6)\n",
    "tupgma.add_edges_from([(6, 'OC'), (6,5)])\n",
    "\n",
    "tupgma.add_node('PR')\n",
    "tupgma.add_node(7)\n",
    "tupgma.add_edges_from([(7, 'PR'), (7, 6)])\n",
    "\n",
    "tupgma.add_node(8)\n",
    "tupgma.add_edges_from([(8, 7), (8, 4)])\n",
    "\n",
    "tupgma.add_node('OE')\n",
    "tupgma.add_node('OG')\n",
    "tupgma.add_node(9)\n",
    "tupgma.add_edges_from([(9, 'OE'), (9, 'OG')])\n",
    "\n",
    "tupgma.add_node('ON')\n",
    "tupgma.add_node(10)\n",
    "tupgma.add_edges_from([(10, 'ON'), (10, 9)])\n",
    "\n",
    "tupgma.add_node('GO')\n",
    "tupgma.add_node(11)\n",
    "tupgma.add_edges_from([(11, 'GO'), (11, 10)])\n",
    "\n",
    "tupgma.add_node(12)\n",
    "tupgma.add_edges_from([(12, 11), (12, 8)])\n",
    "\n",
    "tupgma.add_node('WE')\n",
    "tupgma.add_node('OI')\n",
    "tupgma.add_node(13)\n",
    "tupgma.add_edges_from([(13, 'WE'), (13, 'OI')])\n",
    "\n",
    "tupgma.add_node(14)\n",
    "tupgma.add_edges_from([(14, 13), (14, 12)])\n",
    "\n",
    "tupgma.add_node('TA')\n",
    "tupgma.add_node('TB')\n",
    "tupgma.add_node(15)\n",
    "tupgma.add_edges_from([(15, 'TA'), (15, 'TB')])\n",
    "\n",
    "tupgma.add_node('AL')\n",
    "tupgma.add_node(16)\n",
    "tupgma.add_edges_from([(16, 'AL'), (16, 14), (16, 15)])\n",
    "\n",
    "tupgma.add_node('PE')\n",
    "tupgma.add_node('OS')\n",
    "tupgma.add_node('UM')\n",
    "tupgma.add_node(18)\n",
    "tupgma.add_node(17)\n",
    "tupgma.add_edges_from([(17, 'PE'), (17, 18), (17, 16), (18, 'OS'), (18, 'UM')])\n",
    "\n",
    "tupgma.add_node('LY')\n",
    "tupgma.add_node('LU')\n",
    "tupgma.add_node('HI')\n",
    "tupgma.add_node(19)\n",
    "tupgma.add_node(20)\n",
    "tupgma.add_edges_from([(19, 'LU'), (19, 'HI'), (20, 19), (20, 'LY')])\n",
    "\n",
    "tupgma.add_node(21)\n",
    "tupgma.add_edges_from([(21, 20), (21, 17)])\n",
    "\n",
    "print(nx.info(tupgma))\n",
    "#nx.draw(TGA)\n",
    "nx.draw_networkx(tupgma, pos=nx.kamada_kawai_layout(tupgma), arrows=True, with_labels=True)\n",
    "#planar_layout(, scale=1, center=None, dim=2)"
   ]
  },
  {
   "cell_type": "code",
   "execution_count": 9,
   "metadata": {},
   "outputs": [
    {
     "name": "stdout",
     "output_type": "stream",
     "text": [
      "Name: \n",
      "Type: DiGraph\n",
      "Number of nodes: 0\n",
      "Number of edges: 0\n",
      "\n"
     ]
    }
   ],
   "source": [
    "# The unscreened ones will go here and will have '_u' at the end of them --- I'll do it tomorrow\n",
    "tga_u = nx.DiGraph()\n",
    "print(nx.info(tga_u))"
   ]
  },
  {
   "cell_type": "code",
   "execution_count": 38,
   "metadata": {},
   "outputs": [
    {
     "name": "stdout",
     "output_type": "stream",
     "text": [
      "Name: \n",
      "Type: DiGraph\n",
      "Number of nodes: 40\n",
      "Number of edges: 39\n",
      "Average in degree:   0.9750\n",
      "Average out degree:   0.9750\n"
     ]
    },
    {
     "data": {
      "image/png": "[encoded data removed]",
      "text/plain": [
       "<Figure size 432x288 with 1 Axes>"
      ]
     },
     "metadata": {
      "needs_background": "light"
     },
     "output_type": "display_data"
    }
   ],
   "source": [
    "tga_u.add_node('OE')\n",
    "tga_u.add_node('OG')\n",
    "tga_u.add_node(1)\n",
    "tga_u.add_edges_from([(1, 'OG'), (1, 'OE')])\n",
    "\n",
    "tga_u.add_node('ON')\n",
    "tga_u.add_node(2)\n",
    "tga_u.add_edges_from([(2, 'ON'), (2, 1)])\n",
    "\n",
    "tga_u.add_node('GO')\n",
    "tga_u.add_node(3)\n",
    "tga_u.add_edges_from([(3, 'GO'), (3, 2)])\n",
    "\n",
    "tga_u.add_node('OI')\n",
    "tga_u.add_node('WE')\n",
    "tga_u.add_node(4)\n",
    "tga_u.add_node(5)\n",
    "tga_u.add_edges_from([(4, 'OI'), (4, 'WE'), (5, 4), (5, 3)])\n",
    "\n",
    "tga_u.add_node('OS')\n",
    "tga_u.add_node('UM')\n",
    "tga_u.add_node(6)\n",
    "tga_u.add_node('LA')\n",
    "tga_u.add_node(7)\n",
    "tga_u.add_edges_from([(6, 'OS'), (6, 'UM'), (7, 'LA'), (7, 6)])\n",
    "\n",
    "tga_u.add_node(8)\n",
    "tga_u.add_edges_from([(8, 7), (8, 5)])\n",
    "\n",
    "tga_u.add_node('LI')\n",
    "tga_u.add_node('LT')\n",
    "tga_u.add_node(9)\n",
    "tga_u.add_edges_from([(9, 'LI'), (9, 'LT')])\n",
    "tga_u.add_node('PR')\n",
    "tga_u.add_node(10)\n",
    "tga_u.add_edges_from([(10, 'PR'), (10, 9)])\n",
    "\n",
    "tga_u.add_node('OC')\n",
    "tga_u.add_node(11)\n",
    "tga_u.add_edges_from([(11, 'OC'), (11, 10)])\n",
    "\n",
    "tga_u.add_node(12)\n",
    "tga_u.add_edges_from([(12, 11), (12, 8)])\n",
    "\n",
    "tga_u.add_node('VE')\n",
    "tga_u.add_node(14)\n",
    "tga_u.add_node('AV')\n",
    "tga_u.add_node('PE')\n",
    "tga_u.add_node(13)\n",
    "tga_u.add_edges_from([(13, 'AV'), (13, 'PE'), (14, 'VE'), (14, 13)])\n",
    "\n",
    "tga_u.add_node(15)\n",
    "tga_u.add_edges_from([(15, 14), (15, 12)])\n",
    "\n",
    "tga_u.add_node('GK')\n",
    "tga_u.add_node('AR')\n",
    "tga_u.add_node(16)\n",
    "tga_u.add_node(17)\n",
    "tga_u.add_node('AL')\n",
    "tga_u.add_edges_from([(16, 'GK'), (16, 'AR'), (17, 16), (17, 15), (17, 'AL')])\n",
    "\n",
    "tga_u.add_node('TA')\n",
    "tga_u.add_node('TB')\n",
    "tga_u.add_node(19)\n",
    "tga_u.add_node(18)\n",
    "tga_u.add_edges_from([(19, 'TA'), (19, 'TB'), (18, 19), (18, 17)])\n",
    "\n",
    "tga_u.add_node('HI')\n",
    "tga_u.add_node(21)\n",
    "tga_u.add_node('LU')\n",
    "tga_u.add_node('LY')\n",
    "tga_u.add_node(20)\n",
    "\n",
    "print(nx.info(tga_u))\n",
    "#nx.draw(TGA)\n",
    "nx.draw_networkx(tga_u, pos=nx.kamada_kawai_layout(tga_u), arrows=True, with_labels=True)\n",
    "#planar_layout(, scale=1, center=None, dim=2)"
   ]
  },
  {
   "cell_type": "code",
   "execution_count": null,
   "metadata": {},
   "outputs": [],
   "source": []
  }
 ],
 "metadata": {
  "kernelspec": {
   "display_name": "Python 3",
   "language": "python",
   "name": "python3"
  },
  "language_info": {
   "codemirror_mode": {
    "name": "ipython",
    "version": 3
   },
   "file_extension": ".py",
   "mimetype": "text/x-python",
   "name": "python",
   "nbconvert_exporter": "python",
   "pygments_lexer": "ipython3",
   "version": "3.6.8"
  }
 },
 "nbformat": 4,
 "nbformat_minor": 2
}
